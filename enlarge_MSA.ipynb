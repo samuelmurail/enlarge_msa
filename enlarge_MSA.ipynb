{
 "cells": [
  {
   "cell_type": "code",
   "execution_count": 1,
   "id": "84561690-e079-4e89-b990-c1e8371fc350",
   "metadata": {},
   "outputs": [],
   "source": [
    "from enlarge_msa import blast\n",
    "from enlarge_msa import mmseqs2"
   ]
  },
  {
   "cell_type": "markdown",
   "id": "55fb6d57-9023-42be-82eb-1527f15693aa",
   "metadata": {},
   "source": [
    "# Prepare a DataFrame from an Alphafold input CSV file"
   ]
  },
  {
   "cell_type": "code",
   "execution_count": null,
   "id": "98f6c778-0efe-4d7e-b874-fb38842c3903",
   "metadata": {},
   "outputs": [],
   "source": [
    "AF_df=blast.process_csv(\"b.csv\")"
   ]
  },
  {
   "cell_type": "markdown",
   "id": "1ddd1062-f555-4931-a4c5-9780de039f06",
   "metadata": {},
   "source": [
    "# Importing the used Database for blast search\n"
   ]
  },
  {
   "cell_type": "code",
   "execution_count": null,
   "id": "9180f40d-1c2b-42c6-9225-255699ddd0d3",
   "metadata": {},
   "outputs": [],
   "source": [
    "db=\"/shared/banks/uniref90/uniref90.fasta\""
   ]
  },
  {
   "cell_type": "markdown",
   "id": "fa394dd2-f2d6-4e51-89d0-64b4af00924b",
   "metadata": {},
   "source": [
    "# run BLASTP searches for sequences in a DataFrame\n"
   ]
  },
  {
   "cell_type": "markdown",
   "id": "9f29cb4e-48dd-4066-b707-9aabd0cb22a2",
   "metadata": {},
   "source": [
    "# Steps:\n",
    "\n",
    "1. **Prepare FASTA Files**\n",
    "    - Create FASTA files for each receptor (rec) and peptide (pep) sequence.\n",
    "\n",
    "2. **Run BLASTp**\n",
    "    - Execute BLASTp for each FASTA file.\n",
    "    - Save the outputs in CSV format.\n",
    "\n",
    "3. **Run BLAST Analysis to Prepare MMseq DataFrame**\n",
    "    - For each CSV file:\n",
    "        - Add the sequences for each retrieved ID using `blastdbcmd`.\n",
    "    - Optional:\n",
    "        - Save the modified DataFrames for the receptor or peptide using `generate_tmp_pep_df` and `generate_tmp_rec_df`: **(original blast results + seqs of each id ( blastdbcmd))**\n",
    "    - Search for the sequence with maximum coverage and length for each receptor and peptide sequence.\n",
    "    - Prepare the MMseq DataFrame:\n",
    "        - For each sequence, report the original receptor or peptide sequence along with the newly retrieved receptor or peptide sequence.\n"
   ]
  },
  {
   "cell_type": "markdown",
   "id": "a6c986a0-3d9e-49ad-a6ff-b311be47fd34",
   "metadata": {},
   "source": [
    "# We Need to Specify:\n",
    "\n",
    "- **DataFrame**: The Alphafold DataFrame prepared using process_csv function.\n",
    "- **Database**: The database to use for the BLASTp search.\n",
    "- **E-value Cutoff**: The threshold for the E-value to filter the BLASTp results.\n",
    "- **Number of Threads**: The number of threads to use for the BLASTp search.\n",
    "- **Peptide or Receptor**: Indicate whether the BLASTp search is being performed on peptide sequences or receptor sequences.\n",
    "- **Max Runs**: The maximum number of runs to perform.\n"
   ]
  },
  {
   "cell_type": "code",
   "execution_count": null,
   "id": "33ae73a1-d1ff-4a10-ae04-3b89199e2ea5",
   "metadata": {},
   "outputs": [],
   "source": [
    "blast.blastp(AF_df, db, 10 ,12 ,pep=True, rec=True)"
   ]
  },
  {
   "cell_type": "markdown",
   "id": "6263cbc5-0a60-455d-a548-60417bfae091",
   "metadata": {},
   "source": [
    "- **The Outputs** of blast results will be in csv format"
   ]
  },
  {
   "cell_type": "markdown",
   "id": "d9a06bef-ae71-4c6a-a038-27e859df2be8",
   "metadata": {},
   "source": [
    "# Perform BLAST analysis"
   ]
  },
  {
   "cell_type": "markdown",
   "id": "2a6e8234-c09d-4fb1-9946-d0eaff616149",
   "metadata": {},
   "source": [
    "# We Need to Specify:\n",
    "\n",
    "- **DataFrame**: The Alphafold DataFrame prepared using process_csv function.\n",
    "- **Database**: The database to use for the BLASTp search.\n",
    "- **peptide or receptor** : Indicate whether the blast analysis and preparation of mmseq df will be performed on peptide sequences or receptor sequences.\n",
    "- **generate temporary df** : whether we want to save the treated dataframe of each seq : original blast results + seqs of each id ( blastdbcmd)\n",
    "- **generate_mmseq_df** : whether we want to save the mmseq df in csv format"
   ]
  },
  {
   "cell_type": "code",
   "execution_count": null,
   "id": "0eee5cf1-c8db-488c-bccd-115b59b2251e",
   "metadata": {},
   "outputs": [],
   "source": [
    "mmseq_df=blast.blast_analysis(df,db ,pep=True, rec=True , generate_tmp_pep_df =False,generate_tmp_rec_df =False)"
   ]
  },
  {
   "cell_type": "markdown",
   "id": "0153129e-9069-41d5-a9d8-d5d61a6dbf3a",
   "metadata": {},
   "source": [
    "- **output** : DataFrame containing containing the orginal and the new sequences of receptor and peptide for each pdb strucutre"
   ]
  },
  {
   "cell_type": "markdown",
   "id": "4d16145b-f686-4d6f-a8c2-c5775636f9db",
   "metadata": {},
   "source": [
    "# Run mmseqs2"
   ]
  },
  {
   "cell_type": "code",
   "execution_count": null,
   "id": "051ab84d-aa3e-4fcb-a24e-6164eb39db69",
   "metadata": {},
   "outputs": [],
   "source": [
    "for i, (pdb, original_rec_seq, original_pep_seq, new_rec_seq, new_pep_seq) in enumerate(zip(mmseq_df[\"pdb\"], mmseq_df[\"original_rec_seq\"], mmseq_df[\"original_pep_seq\"], mmseq_df[\"new_rec_seq\"], mmseq_df[\"new_pep_seq\"])):\n",
    "    # checking if both sequences are non-empty\n",
    "    if not (pd.isna(new_rec_seq) or pd.isna(new_pep_seq)):\n",
    "        \n",
    "            # original_seq_list :=[ original_rec_seq , original_pep_seq ]\n",
    "        \n",
    "            original_seq_list = original_rec_seq.strip(\"[]\").replace(\"'\",\"\").split(\", \")\n",
    "            original_seq_list.append(original_pep_seq)\n",
    "        \n",
    "            # new_seq_list :=[ new_rec_seq , new_pep_seq ]\n",
    "            new_seq_list = new_rec_seq.strip(\"[]\").replace(\"'\",\"\").split(\", \")\n",
    "            new_seq_list.append(new_pep_seq)\n",
    "        \n",
    "            for i in range(len(new_seq_list)):\n",
    "                # Insertion of original sequences (receptor and peptide ) in the new sequence \n",
    "                new_seq_list[i] = mmseqs2.insert_seq(original_seq_list[i], new_seq_list[i])\n",
    "                \n",
    "            # run mmseqs2 \n",
    "            mmseqs2.create_full_alignement(\n",
    "                pdb,\n",
    "                original_seq_list,\n",
    "                new_seq_list,\n",
    "                out_dir=\"tmp\",\n",
    "            )\n",
    "\n"
   ]
  },
  {
   "cell_type": "markdown",
   "id": "50805f22-b30b-4c31-b4e5-6d9e7fe58115",
   "metadata": {},
   "source": [
    "**outputs** : unpaired and paired alignements ===> run Alphafold"
   ]
  },
  {
   "cell_type": "markdown",
   "id": "630cf93f-6d6f-486a-8176-7c9e9273da8c",
   "metadata": {},
   "source": [
    "# Other hidden options"
   ]
  },
  {
   "cell_type": "markdown",
   "id": "a290722b-3748-4bfe-afcc-7245dc2c6507",
   "metadata": {},
   "source": [
    "### Run blastp for fasta file"
   ]
  },
  {
   "cell_type": "markdown",
   "id": "f143b079-93bb-43c6-acc4-7517a25cd69b",
   "metadata": {},
   "source": [
    "****Simple BLASTp Search****\n",
    "\n",
    "You can run a simple BLASTp search starting from a FASTA file using the `blastp_launch` function. The function takes the following parameters:\n",
    "\n",
    "- **fasta**: Path to the input FASTA file.\n",
    "- **db**: The BLAST database to use for the search.\n",
    "- **output**:  output file where the results will be saved.\n",
    "- **num_threads**: The number of threads to use for the BLASTp search.\n",
    "- **evalue**: The E-value cutoff for filtering the results.\n",
    "- **Max Runs**: The maximum number of runs to perform.\n"
   ]
  },
  {
   "cell_type": "code",
   "execution_count": null,
   "id": "c025d0c4-e3dc-4536-b54e-d98af5efdef7",
   "metadata": {},
   "outputs": [],
   "source": [
    "fasta_path=\"folder1/seq.fa\"\n",
    "db=\"/shared/banks/uniref90/uniref90.fasta\"\n",
    "blast.blasp_launch(fasta_path,db , \"out_seq_.csv\" , 10,10 , max_runs=5)"
   ]
  },
  {
   "cell_type": "markdown",
   "id": "e090ff0b-d32e-430a-9368-74bf3cd8ab94",
   "metadata": {},
   "source": [
    "### Run blastdbcmd : Fetch an amino acid sequence from the database"
   ]
  },
  {
   "cell_type": "markdown",
   "id": "5bcd5d9e-592d-4e21-a4cf-d98130c77618",
   "metadata": {},
   "source": [
    "****Retrieve Sequences Using `blastdbcmd`****\n",
    "\n",
    "You can retrieve sequences from a BLAST database using the `blastdbcmd` function. This function takes the following parameters:\n",
    "\n",
    "- **query**: The query identifier(s) for the sequences to be retrieved.\n",
    "- **db**: The BLAST database from which to retrieve the sequences.\n"
   ]
  },
  {
   "cell_type": "code",
   "execution_count": null,
   "id": "f868c2ef-580b-4ae2-8439-81787ec52b6b",
   "metadata": {},
   "outputs": [],
   "source": [
    "#example : \n",
    "query=\"UniRef100_Q8DI95\"\n",
    "db=\"/shared/banks/uniref90/uniref90.fasta\"\n",
    "seq=blast.blastdbcmd(query, db):\n"
   ]
  },
  {
   "cell_type": "code",
   "execution_count": null,
   "id": "c3aeeb52-d33c-41cc-a081-8fbba41a8f9b",
   "metadata": {},
   "outputs": [],
   "source": []
  }
 ],
 "metadata": {
  "kernelspec": {
   "display_name": "Python 3 (ipykernel)",
   "language": "python",
   "name": "python3"
  },
  "language_info": {
   "codemirror_mode": {
    "name": "ipython",
    "version": 3
   },
   "file_extension": ".py",
   "mimetype": "text/x-python",
   "name": "python",
   "nbconvert_exporter": "python",
   "pygments_lexer": "ipython3",
   "version": "3.12.0"
  }
 },
 "nbformat": 4,
 "nbformat_minor": 5
}
